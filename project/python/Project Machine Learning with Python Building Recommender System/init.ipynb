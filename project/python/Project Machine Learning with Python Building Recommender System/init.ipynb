{
 "metadata": {
  "language_info": {
   "codemirror_mode": {
    "name": "ipython",
    "version": 3
   },
   "file_extension": ".py",
   "mimetype": "text/x-python",
   "name": "python",
   "nbconvert_exporter": "python",
   "pygments_lexer": "ipython3",
   "version": "3.8.2"
  },
  "orig_nbformat": 2,
  "kernelspec": {
   "name": "python3",
   "display_name": "Python 3.8.2 64-bit",
   "metadata": {
    "interpreter": {
     "hash": "872f0735ef19220b0dda4f6b77023b44f57613b1b3b2bfbd8f78d718d9d3cb06"
    }
   }
  }
 },
 "nbformat": 4,
 "nbformat_minor": 2,
 "cells": [
  {
   "source": [
    "# [1] Import Library dan File Unloading"
   ],
   "cell_type": "markdown",
   "metadata": {}
  },
  {
   "cell_type": "code",
   "execution_count": 1,
   "metadata": {},
   "outputs": [],
   "source": [
    "#import library yang dibutuhkan\n",
    "import pandas as pd\n",
    "import numpy as np"
   ]
  },
  {
   "cell_type": "code",
   "execution_count": 2,
   "metadata": {},
   "outputs": [
    {
     "output_type": "stream",
     "name": "stdout",
     "text": [
      "      tconst  titleType                                      primaryTitle  \\\n0  tt0221078      short                         Circle Dance, Ute Indians   \n1  tt8862466  tvEpisode  ¡El #TeamOsos va con todo al \"Reality del amor\"!   \n2  tt7157720  tvEpisode                                     Episode #3.41   \n3  tt2974998  tvEpisode                         Episode dated 16 May 1987   \n4  tt2903620  tvEpisode                  Frances Bavier: Aunt Bee Retires   \n\n                                      originalTitle  isAdult startYear  \\\n0                         Circle Dance, Ute Indians        0      1898   \n1  ¡El #TeamOsos va con todo al \"Reality del amor\"!        0      2018   \n2                                     Episode #3.41        0      2016   \n3                         Episode dated 16 May 1987        0      1987   \n4                  Frances Bavier: Aunt Bee Retires        0      1973   \n\n  endYear runtimeMinutes             genres  \n0      \\N             \\N  Documentary,Short  \n1      \\N             \\N       Comedy,Drama  \n2      \\N             29   Comedy,Game-Show  \n3      \\N             \\N               News  \n4      \\N             \\N        Documentary  \n"
     ]
    }
   ],
   "source": [
    "#lakukan pembacaan dataset\n",
    "movie_df = pd.read_csv('https://storage.googleapis.com/dqlab-dataset/title.basics.tsv', sep='\\t') #untuk menyimpan title_basics.tsv\n",
    "rating_df = pd.read_csv('https://storage.googleapis.com/dqlab-dataset/title.ratings.tsv', sep='\\t') #untuk menyimpan title.ratings.tsv\n",
    "\n",
    "print(movie_df.head())"
   ]
  },
  {
   "cell_type": "code",
   "execution_count": 3,
   "metadata": {},
   "outputs": [
    {
     "output_type": "stream",
     "name": "stdout",
     "text": [
      "<class 'pandas.core.frame.DataFrame'>\nRangeIndex: 9025 entries, 0 to 9024\nData columns (total 9 columns):\n #   Column          Non-Null Count  Dtype \n---  ------          --------------  ----- \n 0   tconst          9025 non-null   object\n 1   titleType       9025 non-null   object\n 2   primaryTitle    9011 non-null   object\n 3   originalTitle   9011 non-null   object\n 4   isAdult         9025 non-null   int64 \n 5   startYear       9025 non-null   object\n 6   endYear         9025 non-null   object\n 7   runtimeMinutes  9025 non-null   object\n 8   genres          9014 non-null   object\ndtypes: int64(1), object(8)\nmemory usage: 634.7+ KB\nNone\n"
     ]
    }
   ],
   "source": [
    "# [2] Tipe Data dari Setiap Kolom\n",
    "print(movie_df.info())"
   ]
  },
  {
   "cell_type": "code",
   "execution_count": 4,
   "metadata": {},
   "outputs": [
    {
     "output_type": "stream",
     "name": "stdout",
     "text": [
      "tconst             0\ntitleType          0\nprimaryTitle      14\noriginalTitle     14\nisAdult            0\nstartYear          0\nendYear            0\nruntimeMinutes     0\ngenres            11\ndtype: int64\n"
     ]
    }
   ],
   "source": [
    "# [3] Pengecekan Data dengan Nilai NULL\n",
    "print(movie_df.isnull().sum())"
   ]
  },
  {
   "cell_type": "code",
   "execution_count": 5,
   "metadata": {},
   "outputs": [
    {
     "output_type": "stream",
     "name": "stdout",
     "text": [
      "          tconst  titleType primaryTitle originalTitle  isAdult startYear  \\\n9000  tt10790040  tvEpisode          NaN           NaN        0      2019   \n9001  tt10891902  tvEpisode          NaN           NaN        0      2020   \n9002  tt11737860  tvEpisode          NaN           NaN        0      2020   \n9003  tt11737862  tvEpisode          NaN           NaN        0      2020   \n9004  tt11737866  tvEpisode          NaN           NaN        0      2020   \n9005  tt11737872  tvEpisode          NaN           NaN        0      2020   \n9006  tt11737874  tvEpisode          NaN           NaN        0      2020   \n9007   tt1971246  tvEpisode          NaN           NaN        0      2011   \n9008   tt2067043  tvEpisode          NaN           NaN        0      1965   \n9009   tt4404732  tvEpisode          NaN           NaN        0      2015   \n9010   tt5773048  tvEpisode          NaN           NaN        0      2015   \n9011   tt8473688  tvEpisode          NaN           NaN        0      1987   \n9012   tt8541336  tvEpisode          NaN           NaN        0      2018   \n9013   tt9824302  tvEpisode          NaN           NaN        0      2016   \n\n     endYear runtimeMinutes                genres  \n9000      \\N             \\N                    \\N  \n9001      \\N             \\N                 Crime  \n9002      \\N             \\N  Comedy,Drama,Romance  \n9003      \\N             \\N  Comedy,Drama,Romance  \n9004      \\N             \\N  Comedy,Drama,Romance  \n9005      \\N             \\N                    \\N  \n9006      \\N             \\N  Comedy,Drama,Romance  \n9007      \\N             \\N             Biography  \n9008      \\N             \\N                 Music  \n9009      \\N             \\N                Comedy  \n9010      \\N             \\N             Talk-Show  \n9011      \\N             \\N                 Drama  \n9012      \\N             \\N    Reality-TV,Romance  \n9013      \\N             \\N           Documentary  \n"
     ]
    }
   ],
   "source": []
  },
  {
   "source": [
    "# [5] Membuang Data dengan Nilai NULL - part 1\n",
    "# mengupdate movie_df dengan membuang data-data bernilai NULL\n",
    "movie_df = movie_df.loc[(movie_df['primaryTitle'].notnull()) & (movie_df['originalTitle'].notnull())]\n",
    "\n",
    "# menampilkan jumlah data setelah data dengan nilai NULL dibuang\n",
    "print(len(movie_df))"
   ],
   "cell_type": "code",
   "metadata": {},
   "execution_count": 7,
   "outputs": [
    {
     "output_type": "stream",
     "name": "stdout",
     "text": [
      "9011\n"
     ]
    }
   ]
  },
  {
   "cell_type": "code",
   "execution_count": 8,
   "metadata": {},
   "outputs": [
    {
     "output_type": "stream",
     "name": "stdout",
     "text": [
      "          tconst  titleType  \\\n9014  tt10233364  tvEpisode   \n9015  tt10925142  tvEpisode   \n9016  tt10970874  tvEpisode   \n9017  tt11670006  tvEpisode   \n9018  tt11868642  tvEpisode   \n9019   tt2347742  tvEpisode   \n9020   tt3984412  tvEpisode   \n9021   tt8740950  tvEpisode   \n9022   tt9822816  tvEpisode   \n9023   tt9900062  tvEpisode   \n9024   tt9909210  tvEpisode   \n\n                                           primaryTitle originalTitle  \\\n9014  Rolling in the Deep Dish\\tRolling in the Deep ...             0   \n9015  The IMDb Show on Location: Star Wars Galaxy's ...             0   \n9016  Die Bauhaus-Stadt Tel Aviv - Vorbild für die M...             0   \n9017  ...ein angenehmer Unbequemer...\\t...ein angene...             0   \n9018  GGN Heavyweight Championship Lungs With Mike T...             0   \n9019  No sufras por la alergia esta primavera\\tNo su...             0   \n9020  I'm Not Going to Come Last, I'm Just Going to ...             0   \n9021  Weight Loss Resolution Restart - Ins & Outs of...             0   \n9022  Zwischen Vertuschung und Aufklärung - Missbrau...             0   \n9023  The Direction of Yuu's Love: Hings Aren't Goin...             0   \n9024  Politik und/oder Moral - Wie weit geht das Ver...             0   \n\n      isAdult startYear endYear          runtimeMinutes genres  \n9014     2019        \\N      \\N              Reality-TV    NaN  \n9015     2019        \\N      \\N               Talk-Show    NaN  \n9016     2019        \\N      \\N                      \\N    NaN  \n9017     1981        \\N      \\N             Documentary    NaN  \n9018     2020        \\N      \\N               Talk-Show    NaN  \n9019     2004        \\N      \\N                      \\N    NaN  \n9020     2014        \\N      \\N              Reality-TV    NaN  \n9021     2015        \\N      \\N              Reality-TV    NaN  \n9022     2019        \\N      \\N                      \\N    NaN  \n9023     1994        \\N      \\N  Animation,Comedy,Drama    NaN  \n9024     2005        \\N      \\N                      \\N    NaN  \n"
     ]
    }
   ],
   "source": [
    "# [6] Analisis Kolom dengan data bernilai NULL - part 2\n",
    "print(movie_df.loc[movie_df['genres'].isnull()])"
   ]
  },
  {
   "cell_type": "code",
   "execution_count": 9,
   "metadata": {},
   "outputs": [
    {
     "output_type": "stream",
     "name": "stdout",
     "text": [
      "9000\n"
     ]
    }
   ],
   "source": [
    "# [7] Membuang Data dengan Nilai NULL - part 2\n",
    "#mengupdate movie_df dengan membuang data-data bernilai NULL\n",
    "movie_df = movie_df.loc[movie_df['genres'].notnull()]\n",
    "\n",
    "#menampilkan jumlah data setelah data dengan nilai NULL dibuang\n",
    "print(len(movie_df))"
   ]
  },
  {
   "cell_type": "code",
   "execution_count": 10,
   "metadata": {},
   "outputs": [
    {
     "output_type": "stream",
     "name": "stdout",
     "text": [
      "[1898. 2018. 2016. 1987. 1973.]\n[  nan 2005. 1955. 2006. 1999.]\n[nan 29.  7. 23. 85.]\n"
     ]
    }
   ],
   "source": [
    "# [8] Mengubah Nilai '\\\\N'\n",
    "#mengubah nilai '\\\\N' pada startYear menjadi np.nan dan cast kolomnya menjadi float64\n",
    "movie_df['startYear'] = movie_df['startYear'].replace('\\\\N', np.nan)\n",
    "movie_df['startYear'] = movie_df['startYear'].astype('float64')\n",
    "print(movie_df['startYear'].unique()[:5])\n",
    "\n",
    "#mengubah nilai '\\\\N' pada endYear menjadi np.nan dan cast kolomnya menjadi float64\n",
    "movie_df['endYear'] = movie_df['endYear'].replace('\\\\N', np.nan)\n",
    "movie_df['endYear'] = movie_df['endYear'].astype('float64')\n",
    "print(movie_df['endYear'].unique()[:5])\n",
    "\n",
    "#mengubah nilai '\\\\N' pada runtimeMinutes menjadi np.nan dan cast kolomnya menjadi float64\n",
    "movie_df['runtimeMinutes'] = movie_df['runtimeMinutes'].replace('\\\\N', np.nan)\n",
    "movie_df['runtimeMinutes'] = movie_df['runtimeMinutes'].astype('float64')\n",
    "print(movie_df['runtimeMinutes'].unique()[:5])"
   ]
  },
  {
   "cell_type": "code",
   "execution_count": 11,
   "metadata": {},
   "outputs": [],
   "source": [
    "# [9] Mengubah nilai genres menjadi list\n",
    "def transform_to_list(x):\n",
    "    if ',' in x: \n",
    "    #ubah menjadi list apabila ada data pada kolom genre\n",
    "        return x.split(',')\n",
    "    else: \n",
    "    #jika tidak ada data, ubah menjadi list kosong\n",
    "        return []\n",
    "\n",
    "movie_df['genres'] = movie_df['genres'].apply(lambda x: transform_to_list(x))"
   ]
  },
  {
   "cell_type": "code",
   "execution_count": 12,
   "metadata": {},
   "outputs": [
    {
     "output_type": "execute_result",
     "data": {
      "text/plain": [
       "      tconst  titleType                                      primaryTitle  \\\n",
       "0  tt0221078      short                         Circle Dance, Ute Indians   \n",
       "1  tt8862466  tvEpisode  ¡El #TeamOsos va con todo al \"Reality del amor\"!   \n",
       "2  tt7157720  tvEpisode                                     Episode #3.41   \n",
       "3  tt2974998  tvEpisode                         Episode dated 16 May 1987   \n",
       "4  tt2903620  tvEpisode                  Frances Bavier: Aunt Bee Retires   \n",
       "\n",
       "                                      originalTitle  isAdult  startYear  \\\n",
       "0                         Circle Dance, Ute Indians        0     1898.0   \n",
       "1  ¡El #TeamOsos va con todo al \"Reality del amor\"!        0     2018.0   \n",
       "2                                     Episode #3.41        0     2016.0   \n",
       "3                         Episode dated 16 May 1987        0     1987.0   \n",
       "4                  Frances Bavier: Aunt Bee Retires        0     1973.0   \n",
       "\n",
       "   endYear  runtimeMinutes                genres  \n",
       "0      NaN             NaN  [Documentary, Short]  \n",
       "1      NaN             NaN       [Comedy, Drama]  \n",
       "2      NaN            29.0   [Comedy, Game-Show]  \n",
       "3      NaN             NaN                    []  \n",
       "4      NaN             NaN                    []  "
      ],
      "text/html": "<div>\n<style scoped>\n    .dataframe tbody tr th:only-of-type {\n        vertical-align: middle;\n    }\n\n    .dataframe tbody tr th {\n        vertical-align: top;\n    }\n\n    .dataframe thead th {\n        text-align: right;\n    }\n</style>\n<table border=\"1\" class=\"dataframe\">\n  <thead>\n    <tr style=\"text-align: right;\">\n      <th></th>\n      <th>tconst</th>\n      <th>titleType</th>\n      <th>primaryTitle</th>\n      <th>originalTitle</th>\n      <th>isAdult</th>\n      <th>startYear</th>\n      <th>endYear</th>\n      <th>runtimeMinutes</th>\n      <th>genres</th>\n    </tr>\n  </thead>\n  <tbody>\n    <tr>\n      <th>0</th>\n      <td>tt0221078</td>\n      <td>short</td>\n      <td>Circle Dance, Ute Indians</td>\n      <td>Circle Dance, Ute Indians</td>\n      <td>0</td>\n      <td>1898.0</td>\n      <td>NaN</td>\n      <td>NaN</td>\n      <td>[Documentary, Short]</td>\n    </tr>\n    <tr>\n      <th>1</th>\n      <td>tt8862466</td>\n      <td>tvEpisode</td>\n      <td>¡El #TeamOsos va con todo al \"Reality del amor\"!</td>\n      <td>¡El #TeamOsos va con todo al \"Reality del amor\"!</td>\n      <td>0</td>\n      <td>2018.0</td>\n      <td>NaN</td>\n      <td>NaN</td>\n      <td>[Comedy, Drama]</td>\n    </tr>\n    <tr>\n      <th>2</th>\n      <td>tt7157720</td>\n      <td>tvEpisode</td>\n      <td>Episode #3.41</td>\n      <td>Episode #3.41</td>\n      <td>0</td>\n      <td>2016.0</td>\n      <td>NaN</td>\n      <td>29.0</td>\n      <td>[Comedy, Game-Show]</td>\n    </tr>\n    <tr>\n      <th>3</th>\n      <td>tt2974998</td>\n      <td>tvEpisode</td>\n      <td>Episode dated 16 May 1987</td>\n      <td>Episode dated 16 May 1987</td>\n      <td>0</td>\n      <td>1987.0</td>\n      <td>NaN</td>\n      <td>NaN</td>\n      <td>[]</td>\n    </tr>\n    <tr>\n      <th>4</th>\n      <td>tt2903620</td>\n      <td>tvEpisode</td>\n      <td>Frances Bavier: Aunt Bee Retires</td>\n      <td>Frances Bavier: Aunt Bee Retires</td>\n      <td>0</td>\n      <td>1973.0</td>\n      <td>NaN</td>\n      <td>NaN</td>\n      <td>[]</td>\n    </tr>\n  </tbody>\n</table>\n</div>"
     },
     "metadata": {},
     "execution_count": 12
    }
   ],
   "source": [
    "movie_df.head()"
   ]
  },
  {
   "cell_type": "code",
   "execution_count": 13,
   "metadata": {},
   "outputs": [
    {
     "output_type": "stream",
     "name": "stdout",
     "text": [
      "      tconst  averageRating  numVotes\n0  tt0000001            5.6      1608\n1  tt0000002            6.0       197\n2  tt0000003            6.5      1285\n3  tt0000004            6.1       121\n4  tt0000005            6.1      2050\n"
     ]
    }
   ],
   "source": [
    "# [10] Menampilkan 5 data teratas pada dataframe rating\n",
    "print(rating_df.head())"
   ]
  },
  {
   "cell_type": "code",
   "execution_count": 14,
   "metadata": {},
   "outputs": [
    {
     "output_type": "stream",
     "name": "stdout",
     "text": [
      "<class 'pandas.core.frame.DataFrame'>\nRangeIndex: 1030009 entries, 0 to 1030008\nData columns (total 3 columns):\n #   Column         Non-Null Count    Dtype  \n---  ------         --------------    -----  \n 0   tconst         1030009 non-null  object \n 1   averageRating  1030009 non-null  float64\n 2   numVotes       1030009 non-null  int64  \ndtypes: float64(1), int64(1), object(1)\nmemory usage: 23.6+ MB\nNone\n"
     ]
    }
   ],
   "source": [
    "# [11] Menampilkan tipe data\n",
    "print(rating_df.info())"
   ]
  },
  {
   "cell_type": "code",
   "execution_count": 15,
   "metadata": {},
   "outputs": [
    {
     "output_type": "stream",
     "name": "stdout",
     "text": [
      "      tconst  titleType              primaryTitle             originalTitle  \\\n0  tt0043745      short                 Lion Down                 Lion Down   \n1  tt0167491      video         Wicked Covergirls         Wicked Covergirls   \n2  tt6574096  tvEpisode      Shadow Play - Part 2      Shadow Play - Part 2   \n3  tt6941700  tvEpisode              RuPaul Roast              RuPaul Roast   \n4  tt7305674      video  UCLA Track & Field Promo  UCLA Track & Field Promo   \n\n   isAdult  startYear  endYear  runtimeMinutes  \\\n0        0     1951.0      NaN             7.0   \n1        1     1998.0      NaN            85.0   \n2        0     2017.0      NaN            22.0   \n3        0     2017.0      NaN             NaN   \n4        0     2017.0      NaN             NaN   \n\n                           genres  averageRating  numVotes  \n0     [Animation, Comedy, Family]            7.1       459  \n1                              []            5.7         7  \n2  [Adventure, Animation, Comedy]            8.5       240  \n3                              []            8.0        11  \n4                  [Short, Sport]            9.7         7  \n<class 'pandas.core.frame.DataFrame'>\nInt64Index: 1376 entries, 0 to 1375\nData columns (total 11 columns):\n #   Column          Non-Null Count  Dtype  \n---  ------          --------------  -----  \n 0   tconst          1376 non-null   object \n 1   titleType       1376 non-null   object \n 2   primaryTitle    1376 non-null   object \n 3   originalTitle   1376 non-null   object \n 4   isAdult         1376 non-null   int64  \n 5   startYear       1376 non-null   float64\n 6   endYear         26 non-null     float64\n 7   runtimeMinutes  1004 non-null   float64\n 8   genres          1376 non-null   object \n 9   averageRating   1376 non-null   float64\n 10  numVotes        1376 non-null   int64  \ndtypes: float64(4), int64(2), object(5)\nmemory usage: 129.0+ KB\nNone\n"
     ]
    }
   ],
   "source": [
    "# [11] Inner Join table movie dan table rating\n",
    "#Lakukan join pada kedua table\n",
    "movie_rating_df = pd.merge(movie_df, rating_df, on='tconst', how='inner')\n",
    "\n",
    "#Tampilkan 5 data teratas\n",
    "print(movie_rating_df.head())\n",
    "\n",
    "#Tampilkan tipe data dari tiap kolom\n",
    "print(movie_rating_df.info())"
   ]
  },
  {
   "cell_type": "code",
   "execution_count": 16,
   "metadata": {},
   "outputs": [
    {
     "output_type": "stream",
     "name": "stdout",
     "text": [
      "<class 'pandas.core.frame.DataFrame'>\nInt64Index: 1004 entries, 0 to 1374\nData columns (total 11 columns):\n #   Column          Non-Null Count  Dtype  \n---  ------          --------------  -----  \n 0   tconst          1004 non-null   object \n 1   titleType       1004 non-null   object \n 2   primaryTitle    1004 non-null   object \n 3   originalTitle   1004 non-null   object \n 4   isAdult         1004 non-null   int64  \n 5   startYear       1004 non-null   float64\n 6   endYear         17 non-null     float64\n 7   runtimeMinutes  1004 non-null   float64\n 8   genres          1004 non-null   object \n 9   averageRating   1004 non-null   float64\n 10  numVotes        1004 non-null   int64  \ndtypes: float64(4), int64(2), object(5)\nmemory usage: 94.1+ KB\nNone\n"
     ]
    }
   ],
   "source": [
    "# [12] Memperkecil ukuran Table\n",
    "movie_rating_df = movie_rating_df.dropna(subset=['startYear', 'runtimeMinutes'])\n",
    "\n",
    "#Untuk memastikan bahwa sudah tidak ada lagi nilai NULL\n",
    "print(movie_rating_df.info())\n"
   ]
  },
  {
   "cell_type": "code",
   "execution_count": 17,
   "metadata": {},
   "outputs": [
    {
     "output_type": "stream",
     "name": "stdout",
     "text": [
      "6.829581673306773\n"
     ]
    }
   ],
   "source": [
    "# [13] Pertanyaan 1: Berapa nilai C?\n",
    "C = movie_rating_df['averageRating'].mean()\n",
    "print(C)"
   ]
  },
  {
   "cell_type": "code",
   "execution_count": 19,
   "metadata": {},
   "outputs": [
    {
     "output_type": "stream",
     "name": "stdout",
     "text": [
      "229.0\n"
     ]
    }
   ],
   "source": [
    "# [14] Berapa nilai m?\n",
    "m = movie_rating_df['numVotes'].quantile(0.8)\n",
    "print(m)"
   ]
  },
  {
   "cell_type": "code",
   "execution_count": 20,
   "metadata": {},
   "outputs": [
    {
     "output_type": "stream",
     "name": "stdout",
     "text": [
      "      tconst  titleType          primaryTitle         originalTitle  isAdult  \\\n0  tt0043745      short             Lion Down             Lion Down        0   \n1  tt0167491      video     Wicked Covergirls     Wicked Covergirls        1   \n2  tt6574096  tvEpisode  Shadow Play - Part 2  Shadow Play - Part 2        0   \n5  tt2262289      movie               The Pin               The Pin        0   \n6  tt0874027  tvEpisode         Episode #32.9         Episode #32.9        0   \n\n   startYear  endYear  runtimeMinutes                          genres  \\\n0     1951.0      NaN             7.0     [Animation, Comedy, Family]   \n1     1998.0      NaN            85.0                              []   \n2     2017.0      NaN            22.0  [Adventure, Animation, Comedy]   \n5     2013.0      NaN            85.0                              []   \n6     2006.0      NaN            29.0       [Comedy, Game-Show, News]   \n\n   averageRating  numVotes     score  \n0            7.1       459  7.009992  \n1            5.7         7  6.796077  \n2            8.5       240  7.684380  \n5            7.7        27  6.921384  \n6            8.0         8  6.869089  \n"
     ]
    }
   ],
   "source": [
    "# [15] Pertanyaan 3: Bagaimana cara membuat fungsi weighted formula?\n",
    "def imdb_weighted_rating(df, var=0.8):\n",
    "    v = df['numVotes']\n",
    "    R = df['averageRating']\n",
    "    C = df['averageRating'].mean()\n",
    "    m = df['numVotes'].quantile(var)\n",
    "    df['score'] = (v/(m+v))*R+(m/(m+v))*C #Rumus IMDb \n",
    "    return df['score']\n",
    "    \n",
    "imdb_weighted_rating(movie_rating_df)\n",
    "\n",
    "#melakukan pengecekan dataframe\n",
    "print(movie_rating_df.head())"
   ]
  },
  {
   "cell_type": "code",
   "execution_count": 21,
   "metadata": {},
   "outputs": [
    {
     "output_type": "stream",
     "name": "stdout",
     "text": [
      "         tconst  titleType                                   primaryTitle  \\\n68    tt4110822  tvEpisode                                  S.O.S. Part 2   \n236   tt2200252      video                    Attack of the Clones Review   \n1181  tt7697962  tvEpisode            Chapter Seventeen: The Missionaries   \n326   tt7124590  tvEpisode            Chapter Thirty-Four: Judgment Night   \n1045  tt0533506  tvEpisode                                       The Prom   \n71    tt8399426  tvEpisode                                        Savages   \n1234  tt2843830  tvEpisode                                          VIII.   \n1087  tt4295140   tvSeries                                   Chef's Table   \n1054  tt2503932  tvEpisode                                Trial and Error   \n448   tt0337566      video                       AC/DC: Live at Donington   \n624   tt0620159  tvEpisode                                     Strike Out   \n1281  tt3166390  tvEpisode                         Looking for a Plus-One   \n314   tt0954759  tvEpisode                                   Ben Franklin   \n189   tt5661506      video            Florence + the Machine: The Odyssey   \n151   tt3954426  tvEpisode                                Bleeding Kansas   \n1344  tt6644294  tvEpisode                 The Hostile Hospital: Part Two   \n1242  tt3677742  tvSpecial  Saturday Night Live: 40th Anniversary Special   \n1217  tt3642464  tvEpisode                                    Giant Woman   \n544   tt0734655  tvEpisode                              The Little People   \n49    tt9119838  tvEpisode                      Parisian Legend Has It...   \n357   tt4084774  tvEpisode                           Trial and Punishment   \n1111  tt4174072  tvEpisode                     Immortal Emerges from Cave   \n790   tt4279086  tvEpisode                       And Santa's Midnight Run   \n972   tt0048028      movie                                   East of Eden   \n819   tt0032156      movie            The Story of the Last Chrysanthemum   \n\n                                      originalTitle  isAdult  startYear  \\\n68                                    S.O.S. Part 2        0     2015.0   \n236                     Attack of the Clones Review        0     2010.0   \n1181            Chapter Seventeen: The Missionaries        0     2019.0   \n326             Chapter Thirty-Four: Judgment Night        0     2018.0   \n1045                                       The Prom        0     1999.0   \n71                                          Savages        0     2018.0   \n1234                                          VIII.        0     2014.0   \n1087                                   Chef's Table        0     2015.0   \n1054                                Trial and Error        0     2013.0   \n448                        AC/DC: Live at Donington        0     1992.0   \n624                                      Strike Out        0     2000.0   \n1281                         Looking for a Plus-One        0     2014.0   \n314                                    Ben Franklin        0     2007.0   \n189             Florence + the Machine: The Odyssey        0     2016.0   \n151                                 Bleeding Kansas        0     2014.0   \n1344                 The Hostile Hospital: Part Two        0     2018.0   \n1242  Saturday Night Live: 40th Anniversary Special        0     2015.0   \n1217                                    Giant Woman        0     2014.0   \n544                               The Little People        0     1962.0   \n49                        Parisian Legend Has It...        0     2019.0   \n357                            Trial and Punishment        0     2015.0   \n1111                     Immortal Emerges from Cave        0     2017.0   \n790                        And Santa's Midnight Run        0     2014.0   \n972                                    East of Eden        0     1955.0   \n819                              Zangiku monogatari        0     1939.0   \n\n      endYear  runtimeMinutes                          genres  averageRating  \\\n68        NaN            43.0      [Action, Adventure, Drama]            9.4   \n236       NaN            86.0                              []            9.3   \n1181      NaN            54.0        [Drama, Fantasy, Horror]            9.2   \n326       NaN            42.0         [Crime, Drama, Mystery]            9.1   \n1045      NaN            60.0        [Action, Drama, Fantasy]            8.9   \n71        NaN            58.0       [Drama, Fantasy, Romance]            9.0   \n1234      NaN            57.0              [Adventure, Drama]            8.9   \n1087      NaN            50.0                              []            8.6   \n1054      NaN            43.0        [Drama, Fantasy, Horror]            8.6   \n448       NaN           120.0            [Documentary, Music]            8.5   \n624       NaN            30.0                              []            8.7   \n1281      NaN            28.0        [Comedy, Drama, Romance]            8.7   \n314       NaN            21.0                              []            8.1   \n189       NaN            49.0                              []            8.8   \n151       NaN            42.0                [Drama, Western]            8.6   \n1344      NaN            40.0      [Adventure, Comedy, Drama]            8.3   \n1242      NaN           106.0                              []            8.1   \n1217      NaN            11.0  [Adventure, Animation, Comedy]            8.4   \n544       NaN            25.0        [Drama, Fantasy, Horror]            8.1   \n49        NaN            42.0                              []            8.9   \n357       NaN            56.0              [Adventure, Drama]            8.8   \n1111      NaN            53.0      [Action, Adventure, Crime]            8.0   \n790       NaN            42.0     [Action, Adventure, Comedy]            8.2   \n972       NaN           118.0                              []            7.9   \n819       NaN           143.0                [Drama, Romance]            7.9   \n\n      numVotes     score  \n68        3820  9.254624  \n236       1411  8.955045  \n1181      1536  8.892450  \n326       1859  8.850993  \n1045      2740  8.740308  \n71        1428  8.700045  \n1234      1753  8.660784  \n1087     12056  8.566998  \n1054      2495  8.451165  \n448       1343  8.256663  \n624        401  8.020118  \n1281       396  8.014679  \n314       2766  8.002863  \n189        330  7.992798  \n151        437  7.991253  \n1344       812  7.976536  \n1242      1931  7.965312  \n1217       566  7.947641  \n544       1559  7.937290  \n49         263  7.936330  \n357        289  7.928908  \n1111      2898  7.914287  \n790        823  7.901687  \n972      38543  7.893678  \n819       2974  7.823470  \n"
     ]
    }
   ],
   "source": [
    "# [16] Pertanyaan 4: Bagaimana cara membuat simple recommender system?\n",
    "def simple_recommender(df, top=100):\n",
    "    df = df.loc[df['numVotes'] >= m]\n",
    "    df = df.sort_values(by='score', ascending=False) #urutkan dari nilai tertinggi ke terendah\n",
    "    \n",
    "    #Ambil data 100 teratas\n",
    "    df = df[:top]\n",
    "    return df\n",
    "    \n",
    "#Ambil data 25 teratas     \n",
    "print(simple_recommender(movie_rating_df, top=25))"
   ]
  },
  {
   "cell_type": "code",
   "execution_count": 22,
   "metadata": {},
   "outputs": [
    {
     "output_type": "stream",
     "name": "stdout",
     "text": [
      "         tconst  titleType                         primaryTitle  \\\n68    tt4110822  tvEpisode                        S.O.S. Part 2   \n1181  tt7697962  tvEpisode  Chapter Seventeen: The Missionaries   \n326   tt7124590  tvEpisode  Chapter Thirty-Four: Judgment Night   \n71    tt8399426  tvEpisode                              Savages   \n1234  tt2843830  tvEpisode                                VIII.   \n1054  tt2503932  tvEpisode                      Trial and Error   \n1281  tt3166390  tvEpisode               Looking for a Plus-One   \n151   tt3954426  tvEpisode                      Bleeding Kansas   \n1344  tt6644294  tvEpisode       The Hostile Hospital: Part Two   \n357   tt4084774  tvEpisode                 Trial and Punishment   \n708   tt2751234  tvEpisode                         Resurrection   \n605   tt9141176  tvEpisode                59 horas desaparecido   \n983   tt5063116  tvEpisode                                Shell   \n1017  tt2206822  tvEpisode                      Vested Interest   \n73    tt0847785  tvEpisode                          Like It Was   \n625   tt7348490  tvEpisode                   Forced Perspective   \n1272  tt0534736  tvEpisode                 Sex, Lies and Larvae   \n800   tt0901201  tvEpisode                           Crossroads   \n659   tt3909890  tvEpisode                                Moppa   \n1170  tt0647504  tvEpisode                        Tainted Fruit   \n1001  tt2129485  tvEpisode                      A Desperate Man   \n977   tt4391820  tvEpisode                              Aisling   \n1096  tt6822518      movie                    Yasamak Güzel Sey   \n910   tt3348270  tvEpisode                            Bloodline   \n746   tt0534765  tvEpisode                      You've Got Male   \n299   tt4527626  tvEpisode                His Troubled Thoughts   \n509   tt1256301  tvEpisode                           Nine Lives   \n897   tt2349242  tvEpisode                        The Fifth Man   \n1090  tt0212815      movie                             Big Eden   \n109   tt1753383      movie                      A Dog's Purpose   \n550   tt8163822      short                The Neighbors' Window   \n834   tt6509862      movie                             Mr. Long   \n600   tt0329002      movie             Hard Goodbyes: My Father   \n642   tt0993186  tvEpisode                  Daleks in Manhattan   \n691   tt3663996  tvEpisode                          Storm Watch   \n727   tt3563898   tvSeries            Brynhildr in the Darkness   \n164   tt0464049      movie                     The History Boys   \n893   tt8858104      movie                         Guava Island   \n927   tt3663990  tvEpisode                                Pilot   \n462   tt5197828  tvEpisode                                Right   \n1068  tt8369852  tvEpisode              I Think We're Alone Now   \n940   tt0396190      movie                     Return to Sender   \n610   tt3526706      movie                            Chevalier   \n1126  tt2151739      movie                Meet Me in Montenegro   \n637   tt0857275      movie                      Wonderful World   \n385   tt0472259      movie                       Alone with Her   \n1014  tt1159705      movie                        Teenage Angst   \n1043  tt5518756      movie                      The Misandrists   \n1154  tt1386492      movie                  This Is Not a Movie   \n492   tt0882806      movie                           Sugar Boxx   \n922   tt2948790      movie                     Return to Sender   \n690   tt4477536      movie                   Fifty Shades Freed   \n677   tt8923408  tvEpisode                          #JinnHunter   \n1039  tt5227468      movie                        Beiimaan Love   \n1138  tt1126516      movie              Money Hai Toh Honey Hai   \n1208  tt3044882      movie                                Nasha   \n1197  tt3016748      movie                       Jacob's Ladder   \n846   tt0488164      movie                          Moscow Zero   \n90    tt0299981    tvMovie               Highlander: The Source   \n\n                             originalTitle  isAdult  startYear  endYear  \\\n68                           S.O.S. Part 2        0     2015.0      NaN   \n1181   Chapter Seventeen: The Missionaries        0     2019.0      NaN   \n326    Chapter Thirty-Four: Judgment Night        0     2018.0      NaN   \n71                                 Savages        0     2018.0      NaN   \n1234                                 VIII.        0     2014.0      NaN   \n1054                       Trial and Error        0     2013.0      NaN   \n1281                Looking for a Plus-One        0     2014.0      NaN   \n151                        Bleeding Kansas        0     2014.0      NaN   \n1344        The Hostile Hospital: Part Two        0     2018.0      NaN   \n357                   Trial and Punishment        0     2015.0      NaN   \n708                           Resurrection        0     2014.0      NaN   \n605                  59 horas desaparecido        0     2019.0      NaN   \n983                                  Shell        0     2016.0      NaN   \n1017                       Vested Interest        0     2012.0      NaN   \n73                             Like It Was        0     2006.0      NaN   \n625                     Forced Perspective        0     2018.0      NaN   \n1272                  Sex, Lies and Larvae        0     2000.0      NaN   \n800                             Crossroads        0     2006.0      NaN   \n659                                  Moppa        0     2014.0      NaN   \n1170                         Tainted Fruit        0     2001.0      NaN   \n1001                       A Desperate Man        0     2012.0      NaN   \n977                                Aisling        0     2019.0      NaN   \n1096                     Yasamak Güzel Sey        0     2017.0      NaN   \n910                              Bloodline        0     2014.0      NaN   \n746                        You've Got Male        0     2001.0      NaN   \n299                  His Troubled Thoughts        0     2016.0      NaN   \n509                             Nine Lives        0     2008.0      NaN   \n897                          The Fifth Man        0     2012.0      NaN   \n1090                              Big Eden        0     2000.0      NaN   \n109                        A Dog's Purpose        0     2017.0      NaN   \n550                  The Neighbors' Window        0     2019.0      NaN   \n834                                Ryu san        0     2017.0      NaN   \n600   Dyskoloi apohairetismoi: O babas mou        0     2002.0      NaN   \n642                    Daleks in Manhattan        0     2007.0      NaN   \n691                            Storm Watch        0     2014.0      NaN   \n727                  Gokukoku no Brynhildr        0     2014.0      NaN   \n164                       The History Boys        0     2006.0      NaN   \n893                           Guava Island        0     2019.0      NaN   \n927                                  Pilot        0     2014.0      NaN   \n462                                  Right        0     2016.0      NaN   \n1068               I Think We're Alone Now        0     2019.0      NaN   \n940                       Return to Sender        0     2004.0      NaN   \n610                              Chevalier        0     2015.0      NaN   \n1126                 Meet Me in Montenegro        0     2014.0      NaN   \n637                        Wonderful World        0     2009.0      NaN   \n385                         Alone with Her        0     2006.0      NaN   \n1014                         Teenage Angst        0     2008.0      NaN   \n1043                       The Misandrists        0     2017.0      NaN   \n1154                   This Is Not a Movie        0     2011.0      NaN   \n492                             Sugar Boxx        0     2009.0      NaN   \n922                       Return to Sender        0     2015.0      NaN   \n690                     Fifty Shades Freed        0     2018.0      NaN   \n677                            #JinnHunter        0     2019.0      NaN   \n1039                         Beiimaan Love        0     2016.0      NaN   \n1138               Money Hai Toh Honey Hai        0     2008.0      NaN   \n1208                                 Nasha        0     2013.0      NaN   \n1197                        Jacob's Ladder        0     2019.0      NaN   \n846                            Moscow Zero        0     2006.0      NaN   \n90                  Highlander: The Source        0     2007.0      NaN   \n\n      runtimeMinutes                       genres  averageRating  numVotes  \\\n68              43.0   [Action, Adventure, Drama]            9.4      3820   \n1181            54.0     [Drama, Fantasy, Horror]            9.2      1536   \n326             42.0      [Crime, Drama, Mystery]            9.1      1859   \n71              58.0    [Drama, Fantasy, Romance]            9.0      1428   \n1234            57.0           [Adventure, Drama]            8.9      1753   \n1054            43.0     [Drama, Fantasy, Horror]            8.6      2495   \n1281            28.0     [Comedy, Drama, Romance]            8.7       396   \n151             42.0             [Drama, Western]            8.6       437   \n1344            40.0   [Adventure, Comedy, Drama]            8.3       812   \n357             56.0           [Adventure, Drama]            8.8       289   \n708             43.0       [Crime, Drama, Horror]            8.0      1077   \n605             48.0     [Crime, Drama, Thriller]            8.1       674   \n983             32.0              [Comedy, Drama]            8.5       275   \n1017            43.0       [Comedy, Crime, Drama]            8.0       525   \n73              43.0     [Comedy, Drama, Mystery]            8.1       405   \n625             43.0      [Crime, Drama, Mystery]            7.9       413   \n1272            46.0      [Crime, Drama, Mystery]            7.7       689   \n800             42.0     [Action, Drama, Mystery]            7.7       654   \n659             27.0              [Comedy, Drama]            7.8       410   \n1170            98.0      [Crime, Drama, Mystery]            7.7       538   \n1001            44.0       [Action, Crime, Drama]            7.7       501   \n977             51.0      [Crime, Drama, Fantasy]            7.5      1558   \n1096           101.0              [Comedy, Drama]            7.5      1541   \n910             44.0     [Drama, Horror, Mystery]            7.7       436   \n746             45.0      [Crime, Drama, Mystery]            7.6       620   \n299             59.0     [Crime, Drama, Thriller]            7.5       859   \n509             44.0       [Action, Crime, Drama]            7.6       501   \n897             44.0       [Action, Crime, Drama]            7.8       270   \n1090           118.0     [Comedy, Drama, Romance]            7.3      3906   \n109            100.0   [Adventure, Comedy, Drama]            7.2     61521   \n550             21.0               [Drama, Short]            7.2      2222   \n834            129.0       [Action, Crime, Drama]            7.1       960   \n600            113.0              [Drama, Family]            7.1       423   \n642             45.0   [Adventure, Drama, Family]            7.0      4982   \n691             43.0             [Drama, Romance]            7.0       309   \n727             22.0   [Action, Animation, Drama]            6.8       733   \n164            109.0     [Comedy, Drama, Romance]            6.8     19858   \n893             55.0       [Comedy, Drama, Music]            6.7      7935   \n927             44.0             [Drama, Romance]            6.6       403   \n462             42.0      [Crime, Drama, Mystery]            6.5       641   \n1068            43.0  [Adventure, Drama, Mystery]            6.3       563   \n940            109.0            [Drama, Thriller]            6.4      2342   \n610            105.0              [Comedy, Drama]            6.3      3890   \n1126            90.0     [Comedy, Drama, Romance]            5.8       258   \n637             89.0             [Drama, Romance]            6.1      2288   \n385             78.0     [Crime, Drama, Thriller]            6.0      3738   \n1014            64.0            [Drama, Thriller]            5.3       355   \n1043            91.0              [Comedy, Drama]            5.1       387   \n1154            99.0              [Comedy, Drama]            4.6       642   \n492             86.0               [Crime, Drama]            3.5       229   \n922             92.0            [Drama, Thriller]            5.1     11434   \n690            105.0   [Drama, Romance, Thriller]            4.5     50572   \n677             24.0     [Drama, Fantasy, Horror]            3.6       592   \n1039           120.0   [Drama, Romance, Thriller]            2.8       374   \n1138           138.0              [Comedy, Drama]            2.8       527   \n1208           122.0            [Drama, Thriller]            3.2      1132   \n1197            89.0     [Drama, Horror, Mystery]            3.4      2065   \n846             82.0      [Action, Drama, Horror]            3.0      1620   \n90              86.0   [Action, Adventure, Drama]            3.1      8855   \n\n         score  \n68    9.254624  \n1181  8.892450  \n326   8.850993  \n71    8.700045  \n1234  8.660784  \n1054  8.451165  \n1281  8.014679  \n151   7.991253  \n1344  7.976536  \n357   7.928908  \n708   7.794774  \n605   7.777823  \n983   7.741020  \n1017  7.644528  \n73    7.641127  \n625   7.518184  \n1272  7.482870  \n800   7.474263  \n659   7.452229  \n1170  7.440123  \n1001  7.426951  \n977   7.414087  \n1096  7.413262  \n910   7.400262  \n746   7.392196  \n299   7.358892  \n509   7.358321  \n897   7.354658  \n1090  7.273948  \n109   7.198626  \n550   7.165391  \n834   7.047918  \n600   7.005022  \n642   6.992511  \n691   6.927461  \n727   6.807042  \n164   6.800337  \n893   6.703635  \n927   6.683187  \n462   6.586752  \n1068  6.453124  \n940   6.438263  \n610   6.329443  \n1126  6.284136  \n637   6.166378  \n385   6.047889  \n1014  5.899785  \n1043  5.742978  \n1154  5.186193  \n492   5.164791  \n922   5.133960  \n690   4.510501  \n677   4.500821  \n1039  4.330305  \n1138  4.020601  \n1208  3.810708  \n1197  3.742360  \n846   3.474296  \n90    3.194020  \n"
     ]
    }
   ],
   "source": [
    "# [17] Pertanyaan 5: Bagaimana cara membuat simple recommender system dengan user preferences?\n",
    "df = movie_rating_df.copy()\n",
    "\n",
    "def user_prefer_recommender(df, ask_adult, ask_start_year, ask_genre, top=100):\n",
    "    #ask_adult = yes/no\n",
    "    if ask_adult.lower() == 'yes':\n",
    "        df = df.loc[df['isAdult'] == 1]\n",
    "    elif ask_adult.lower() == 'no':\n",
    "        df = df.loc[df['isAdult'] == 0]\n",
    "\n",
    "    #ask_start_year = numeric\n",
    "    df = df.loc[df['startYear'] >= int(ask_start_year)]\n",
    "\n",
    "    #ask_genre = 'all' atau yang lain\n",
    "    if ask_genre.lower() == 'all':\n",
    "        df = df\n",
    "    else:\n",
    "        def filter_genre(x):\n",
    "            if ask_genre.lower() in str(x).lower():\n",
    "                return True\n",
    "            else:\n",
    "                return False\n",
    "        df = df.loc[df['genres'].apply(lambda x: filter_genre(x))]\n",
    "\n",
    "    df = df.loc[df['numVotes'] >= m] #Mengambil film dengan m yang lebih besar dibanding numVotes\n",
    "    df = df.sort_values(by='score', ascending=False)\n",
    "    \n",
    "    #jika kamu hanya ingin mengambil 100 teratas\n",
    "    df = df[:top]\n",
    "    return df\n",
    "\n",
    "print(user_prefer_recommender(df,\n",
    "                       ask_adult = 'no',\n",
    "                       ask_start_year = 2000,\n",
    "                       ask_genre = 'drama'\n",
    "                       ))"
   ]
  },
  {
   "cell_type": "code",
   "execution_count": null,
   "metadata": {},
   "outputs": [],
   "source": []
  }
 ]
}
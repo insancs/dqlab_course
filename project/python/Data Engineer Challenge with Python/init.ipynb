{
 "metadata": {
  "language_info": {
   "codemirror_mode": {
    "name": "ipython",
    "version": 3
   },
   "file_extension": ".py",
   "mimetype": "text/x-python",
   "name": "python",
   "nbconvert_exporter": "python",
   "pygments_lexer": "ipython3",
   "version": "3.8.2"
  },
  "orig_nbformat": 2,
  "kernelspec": {
   "name": "python3",
   "display_name": "Python 3.8.2 64-bit",
   "metadata": {
    "interpreter": {
     "hash": "872f0735ef19220b0dda4f6b77023b44f57613b1b3b2bfbd8f78d718d9d3cb06"
    }
   }
  }
 },
 "nbformat": 4,
 "nbformat_minor": 2,
 "cells": [
  {
   "source": [
    "## [1] Web Scraping"
   ],
   "cell_type": "markdown",
   "metadata": {}
  },
  {
   "cell_type": "code",
   "execution_count": 1,
   "metadata": {},
   "outputs": [],
   "source": [
    "#import library yang dibutuhkan\n",
    "import pandas as pd\n",
    "import requests\n",
    "from bs4 import BeautifulSoup"
   ]
  },
  {
   "cell_type": "code",
   "execution_count": 2,
   "metadata": {},
   "outputs": [
    {
     "output_type": "stream",
     "name": "stdout",
     "text": [
      "<table class=\"wikitable sortable\" style=\"text-align:right;\">\n<tbody><tr>\n<th>Nama provinsi\n</th>\n<th>Luas (km²)<sup class=\"reference\" id=\"cite_ref-9\"><a href=\"#cite_note-9\">[8]</a></sup>\n</th>\n<th>Populasi (2010)<sup class=\"reference\" id=\"cite_ref-Sensus_2010_2-1\"><a href=\"#cite_note-Sensus_2010-2\">[2]</a></sup>\n</th>\n<th>Populasi (2020)<sup class=\"reference\" id=\"cite_ref-10\"><a href=\"#cite_note-10\">[9]</a></sup>\n</th></tr>\n<tr>\n<td style=\"text-align:left;\"><a href=\"/wiki/Aceh\" title=\"Aceh\">Aceh</a>\n</td>\n<td>56.500,51\n</td>\n<td>4.494.410\n</td>\n<td>5.274.871\n</td></tr>\n<tr>\n<td style=\"text-align:left;\"><a href=\"/wiki/Sumatra_Utara\" title=\"Sumatra Utara\">Sumatra Utara</a>\n</td>\n<td>72.427,81\n</td>\n<td>12.982.204\n</td>\n<td>14.799.361\n</td></tr>\n<tr>\n<td style=\"text-align:left;\"><a href=\"/wiki/Sumatra_Barat\" title=\"Sumatra Barat\">Sumatra Barat</a>\n</td>\n<td>42.224,65\n</td>\n<td>4.846.909\n</td>\n<td>5.534.472\n</td></tr>\n<tr>\n<td style=\"text-align:left;\"><a href=\"/wiki/Riau\" title=\"Riau\">Riau</a>\n</td>\n<td>87.844,23\n</td>\n<td>5.538.367\n</td>\n<td>6.394.087\n</td></tr>\n<tr>\n<td style=\"text-align:left;\"><a href=\"/wiki/Jambi\" title=\"Jambi\">Jambi</a>\n</td>\n<td>45.348,49\n</td>\n<td>3.092.265\n</td>\n<td>3.548.228\n</td></tr>\n<tr>\n<td style=\"text-align:left;\"><a href=\"/wiki/Sumatra_Selatan\" title=\"Sumatra Selatan\">Sumatra Selatan</a>\n</td>\n<td>60.302,54\n</td>\n<td>7.450.394\n</td>\n<td>8.467.432\n</td></tr>\n<tr>\n<td style=\"text-align:left;\"><a href=\"/wiki/Bengkulu\" title=\"Bengkulu\">Bengkulu</a>\n</td>\n<td>19.795,15\n</td>\n<td>1.715.518\n</td>\n<td>2.010.670\n</td></tr>\n<tr>\n<td style=\"text-align:left;\"><a href=\"/wiki/Lampung\" title=\"Lampung\">Lampung</a>\n</td>\n<td>37.735,15\n</td>\n<td>7.608.405\n</td>\n<td>9.007.848\n</td></tr>\n<tr>\n<td style=\"text-align:left;\"><a href=\"/wiki/Kepulauan_Bangka_Belitung\" title=\"Kepulauan Bangka Belitung\">Kepulauan Bangka Belitung</a>\n</td>\n<td>16.424,14\n</td>\n<td>1.223.296\n</td>\n<td>1.455.678\n</td></tr>\n<tr>\n<td style=\"text-align:left;\"><a href=\"/wiki/Kepulauan_Riau\" title=\"Kepulauan Riau\">Kepulauan Riau</a>\n</td>\n<td>8.084,01\n</td>\n<td>1.679.163\n</td>\n<td>2.064.564\n</td></tr>\n<tr>\n<td style=\"text-align:left;\"><a href=\"/wiki/Daerah_Khusus_Ibukota_Jakarta\" title=\"Daerah Khusus Ibukota Jakarta\">Daerah Khusus Ibukota Jakarta</a>\n</td>\n<td>740,29\n</td>\n<td>9.607.787\n</td>\n<td>10.562.088\n</td></tr>\n<tr>\n<td style=\"text-align:left;\"><a href=\"/wiki/Jawa_Barat\" title=\"Jawa Barat\">Jawa Barat</a>\n</td>\n<td>36.925,05\n</td>\n<td>43.053.732\n</td>\n<td>48.274.162\n</td></tr>\n<tr>\n<td style=\"text-align:left;\"><a href=\"/wiki/Jawa_Tengah\" title=\"Jawa Tengah\">Jawa Tengah</a>\n</td>\n<td>32.799,71\n</td>\n<td>32.382.657\n</td>\n<td>36.516.035\n</td></tr>\n<tr>\n<td style=\"text-align:left;\"><a href=\"/wiki/Daerah_Istimewa_Yogyakarta\" title=\"Daerah Istimewa Yogyakarta\">Daerah Istimewa Yogyakarta</a>\n</td>\n<td>3.133,15\n</td>\n<td>3.457.491\n</td>\n<td>3.668.719\n</td></tr>\n<tr>\n<td style=\"text-align:left;\"><a href=\"/wiki/Jawa_Timur\" title=\"Jawa Timur\">Jawa Timur</a>\n</td>\n<td>46.689,64\n</td>\n<td>37.476.757\n</td>\n<td>40.665.696\n</td></tr>\n<tr>\n<td style=\"text-align:left;\"><a href=\"/wiki/Banten\" title=\"Banten\">Banten</a>\n</td>\n<td>9.018,64\n</td>\n<td>10.632.166\n</td>\n<td>11.904.562\n</td></tr>\n<tr>\n<td style=\"text-align:left;\"><a href=\"/wiki/Bali\" title=\"Bali\">Bali</a>\n</td>\n<td>5.449,37\n</td>\n<td>3.890.757\n</td>\n<td>4.317.404\n</td></tr>\n<tr>\n<td style=\"text-align:left;\"><a href=\"/wiki/Nusa_Tenggara_Barat\" title=\"Nusa Tenggara Barat\">Nusa Tenggara Barat</a>\n</td>\n<td>19.708,79\n</td>\n<td>4.500.212\n</td>\n<td>5.320.092\n</td></tr>\n<tr>\n<td style=\"text-align:left;\"><a href=\"/wiki/Nusa_Tenggara_Timur\" title=\"Nusa Tenggara Timur\">Nusa Tenggara Timur</a>\n</td>\n<td>46.137,87\n</td>\n<td>4.683.827\n</td>\n<td>5.325.566\n</td></tr>\n<tr>\n<td style=\"text-align:left;\"><a href=\"/wiki/Kalimantan_Barat\" title=\"Kalimantan Barat\">Kalimantan Barat</a>\n</td>\n<td>120.114,32\n</td>\n<td>4.395.983\n</td>\n<td>5.414.390\n</td></tr>\n<tr>\n<td style=\"text-align:left;\"><a href=\"/wiki/Kalimantan_Tengah\" title=\"Kalimantan Tengah\">Kalimantan Tengah</a>\n</td>\n<td>153.564,50\n</td>\n<td>2.212.089\n</td>\n<td>2.669.969\n</td></tr>\n<tr>\n<td style=\"text-align:left;\"><a href=\"/wiki/Kalimantan_Selatan\" title=\"Kalimantan Selatan\">Kalimantan Selatan</a>\n</td>\n<td>37.530,52\n</td>\n<td>3.626.616\n</td>\n<td>4.073.584\n</td></tr>\n<tr>\n<td style=\"text-align:left;\"><a href=\"/wiki/Kalimantan_Timur\" title=\"Kalimantan Timur\">Kalimantan Timur</a>\n</td>\n<td>194.849,08\n</td>\n<td>3.553.143\n</td>\n<td>3.766.039\n</td></tr>\n<tr>\n<td style=\"text-align:left;\"><a href=\"/wiki/Kalimantan_Utara\" title=\"Kalimantan Utara\">Kalimantan Utara</a>\n</td>\n<td>72.567,49\n</td>\n<td>738.163\n</td>\n<td>701.814\n</td></tr>\n<tr>\n<td style=\"text-align:left;\"><a href=\"/wiki/Sulawesi_Utara\" title=\"Sulawesi Utara\">Sulawesi Utara</a>\n</td>\n<td>13.930,73\n</td>\n<td>2.270.596\n</td>\n<td>2.621.923\n</td></tr>\n<tr>\n<td style=\"text-align:left;\"><a href=\"/wiki/Sulawesi_Tengah\" title=\"Sulawesi Tengah\">Sulawesi Tengah</a>\n</td>\n<td>68.089,83\n</td>\n<td>2.635.009\n</td>\n<td>2.985.734\n</td></tr>\n<tr>\n<td style=\"text-align:left;\"><a href=\"/wiki/Sulawesi_Selatan\" title=\"Sulawesi Selatan\">Sulawesi Selatan</a>\n</td>\n<td>46.116,45\n</td>\n<td>8.034.776\n</td>\n<td>9.073.509\n</td></tr>\n<tr>\n<td style=\"text-align:left;\"><a href=\"/wiki/Sulawesi_Tenggara\" title=\"Sulawesi Tenggara\">Sulawesi Tenggara</a>\n</td>\n<td>36.757,45\n</td>\n<td>2.232.586\n</td>\n<td>2.624.875\n</td></tr>\n<tr>\n<td style=\"text-align:left;\"><a href=\"/wiki/Gorontalo\" title=\"Gorontalo\">Gorontalo</a>\n</td>\n<td>12.165,44\n</td>\n<td>1.040.164\n</td>\n<td>1.171.681\n</td></tr>\n<tr>\n<td style=\"text-align:left;\"><a href=\"/wiki/Sulawesi_Barat\" title=\"Sulawesi Barat\">Sulawesi Barat</a>\n</td>\n<td>16.787,19\n</td>\n<td>1.158.651\n</td>\n<td>1.419.229\n</td></tr>\n<tr>\n<td style=\"text-align:left;\"><a href=\"/wiki/Maluku\" title=\"Maluku\">Maluku</a>\n</td>\n<td>47.350,42\n</td>\n<td>1.533.506\n</td>\n<td>1.848.923\n</td></tr>\n<tr>\n<td style=\"text-align:left;\"><a href=\"/wiki/Maluku_Utara\" title=\"Maluku Utara\">Maluku Utara</a>\n</td>\n<td>39.959,99\n</td>\n<td>1.038.087\n</td>\n<td>1.282.937\n</td></tr>\n<tr>\n<td style=\"text-align:left;\"><a href=\"/wiki/Papua_Barat\" title=\"Papua Barat\">Papua Barat</a>\n</td>\n<td>114.566,40\n</td>\n<td>760.422\n</td>\n<td>1.134.068\n</td></tr>\n<tr>\n<td style=\"text-align:left;\"><a href=\"/wiki/Papua\" title=\"Papua\">Papua</a>\n</td>\n<td>309.934,40\n</td>\n<td>2.833.381\n</td>\n<td>4.303.707\n</td></tr>\n<tr>\n<th>Jumlah\n</th>\n<th>—\n</th>\n<th>237.641.326\n</th>\n<th>270.203.917\n</th></tr></tbody></table>\n"
     ]
    }
   ],
   "source": [
    "url = requests.get('https://id.wikipedia.org/wiki/Demografi_Indonesia').text\n",
    "soup = BeautifulSoup(url, 'html.parser')\n",
    "table = soup.find(\"table\", {\"class\":\"wikitable sortable\"})\n",
    "print(table)"
   ]
  },
  {
   "cell_type": "code",
   "execution_count": 3,
   "metadata": {},
   "outputs": [
    {
     "output_type": "stream",
     "name": "stdout",
     "text": [
      "Index(['Nama provinsi', 'Luas (km²)[8]', 'Populasi (2010)[2]',\n       'Populasi (2020)[9]'],\n      dtype='object')\n"
     ]
    }
   ],
   "source": [
    "df = pd.read_html(str(table))\n",
    "df = pd.DataFrame(df[0])\n",
    "print(df.columns)"
   ]
  },
  {
   "cell_type": "code",
   "execution_count": 4,
   "metadata": {},
   "outputs": [
    {
     "output_type": "stream",
     "name": "stdout",
     "text": [
      "Index(['Nama provinsi', 'Luas (km²)[8]', 'Populasi (2010)[2]',\n       'Populasi (2020)[9]'],\n      dtype='object')\n"
     ]
    }
   ],
   "source": [
    "df = df.rename(columns={'Populasi[5]':'Populasi', 'Luas (km²)[6]':'Luas km'})\n",
    "print(df.columns)\n",
    "\n",
    "df.to_csv(\"Indonesia_Demography_by_Province.csv\", sep=\",\", index=False)"
   ]
  },
  {
   "cell_type": "code",
   "execution_count": 5,
   "metadata": {},
   "outputs": [
    {
     "output_type": "execute_result",
     "data": {
      "text/plain": [
       "   Nama provinsi Luas (km²)[8] Populasi (2010)[2] Populasi (2020)[9]\n",
       "0           Aceh      56.50051          4.494.410          5.274.871\n",
       "1  Sumatra Utara      72.42781         12.982.204         14.799.361\n",
       "2  Sumatra Barat      42.22465          4.846.909          5.534.472\n",
       "3           Riau      87.84423          5.538.367          6.394.087\n",
       "4          Jambi      45.34849          3.092.265          3.548.228"
      ],
      "text/html": "<div>\n<style scoped>\n    .dataframe tbody tr th:only-of-type {\n        vertical-align: middle;\n    }\n\n    .dataframe tbody tr th {\n        vertical-align: top;\n    }\n\n    .dataframe thead th {\n        text-align: right;\n    }\n</style>\n<table border=\"1\" class=\"dataframe\">\n  <thead>\n    <tr style=\"text-align: right;\">\n      <th></th>\n      <th>Nama provinsi</th>\n      <th>Luas (km²)[8]</th>\n      <th>Populasi (2010)[2]</th>\n      <th>Populasi (2020)[9]</th>\n    </tr>\n  </thead>\n  <tbody>\n    <tr>\n      <th>0</th>\n      <td>Aceh</td>\n      <td>56.50051</td>\n      <td>4.494.410</td>\n      <td>5.274.871</td>\n    </tr>\n    <tr>\n      <th>1</th>\n      <td>Sumatra Utara</td>\n      <td>72.42781</td>\n      <td>12.982.204</td>\n      <td>14.799.361</td>\n    </tr>\n    <tr>\n      <th>2</th>\n      <td>Sumatra Barat</td>\n      <td>42.22465</td>\n      <td>4.846.909</td>\n      <td>5.534.472</td>\n    </tr>\n    <tr>\n      <th>3</th>\n      <td>Riau</td>\n      <td>87.84423</td>\n      <td>5.538.367</td>\n      <td>6.394.087</td>\n    </tr>\n    <tr>\n      <th>4</th>\n      <td>Jambi</td>\n      <td>45.34849</td>\n      <td>3.092.265</td>\n      <td>3.548.228</td>\n    </tr>\n  </tbody>\n</table>\n</div>"
     },
     "metadata": {},
     "execution_count": 5
    }
   ],
   "source": [
    "df.head()"
   ]
  },
  {
   "source": [
    "## [2] Function and REGEX"
   ],
   "cell_type": "markdown",
   "metadata": {}
  },
  {
   "cell_type": "code",
   "execution_count": 6,
   "metadata": {},
   "outputs": [],
   "source": [
    "#import library yang dibutuhkan\n",
    "import re"
   ]
  },
  {
   "cell_type": "code",
   "execution_count": 7,
   "metadata": {},
   "outputs": [
    {
     "output_type": "stream",
     "name": "stdout",
     "text": [
      "Not Pass\nPass\nPass\nPass\nNot Pass\nNot Pass\nPass\nNot Pass\nNot Pass\n"
     ]
    }
   ],
   "source": [
    "#function email_check\n",
    "def email_check(input):\n",
    "    match = re.search('(?=^((?!-).)*$)(?=[^0-9])((?=^((?!\\.\\d).)*$)|(?=.*_))',input)\n",
    "    if match:\n",
    "  \t    print('Pass')\n",
    "    else:\n",
    "  \t    print('Not Pass')\n",
    "\n",
    "#Masukkan daftar email ke dalam list\n",
    "emails = ['my-name@someemail.com', 'myname@someemail.com','my.name@someemail.com',\n",
    "'my.name2019@someemail.com', 'my.name.2019@someemail.com',\n",
    "'somename.201903@someemail.com','my_name.201903@someemail.com',\n",
    "'201903myname@someemail.com', '201903.myname@someemail.com']\n",
    "\n",
    "#Looping untuk pengecekan Pass atau Not Pass\n",
    "for email in emails :\n",
    "\temail_check(email)"
   ]
  }
 ]
}
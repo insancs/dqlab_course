{
 "metadata": {
  "language_info": {
   "codemirror_mode": {
    "name": "ipython",
    "version": 3
   },
   "file_extension": ".py",
   "mimetype": "text/x-python",
   "name": "python",
   "nbconvert_exporter": "python",
   "pygments_lexer": "ipython3",
   "version": "3.8.2"
  },
  "orig_nbformat": 2,
  "kernelspec": {
   "name": "python3",
   "display_name": "Python 3.8.2 64-bit",
   "metadata": {
    "interpreter": {
     "hash": "872f0735ef19220b0dda4f6b77023b44f57613b1b3b2bfbd8f78d718d9d3cb06"
    }
   }
  }
 },
 "nbformat": 4,
 "nbformat_minor": 2,
 "cells": [
  {
   "cell_type": "code",
   "execution_count": 1,
   "metadata": {},
   "outputs": [],
   "source": [
    "# [1] Dict data type!\n",
    "dic1 = {1:10, 2:20}\n",
    "dic2 = {3:30, 4:40}\n",
    "dic3 = {5:50, 6:60}\n",
    "dic4 = {}"
   ]
  },
  {
   "cell_type": "code",
   "execution_count": 2,
   "metadata": {},
   "outputs": [
    {
     "output_type": "stream",
     "name": "stdout",
     "text": [
      "{1: 10, 2: 20, 3: 30, 4: 40, 5: 50, 6: 60}\n"
     ]
    }
   ],
   "source": [
    "for x in (dic1, dic2, dic3):\n",
    "    dic4.update(x)\n",
    "print(dic4)\n",
    "\n",
    "# [2] Jumlah 7 Deret Pertama Fibonacci\n",
    "def calculateSum(n):\n",
    "    if n <= 0:\n",
    "        return 0\n",
    "    fibo = [0] * (n + 1)\n",
    "    fibo[1] = 1\n",
    "    # Initialisasi hasil ke dalam variabel sm\n",
    "    sm = fibo[0] + fibo[1]\n",
    "    # Tambahkan suku-suku berikutnya\n",
    "    for i in range(2, n + 1):\n",
    "        fibo[i] = fibo[i - 1] + fibo[i - 2]\n",
    "        sm += fibo[i]\n",
    "    return sm"
   ]
  },
  {
   "cell_type": "code",
   "execution_count": 3,
   "metadata": {},
   "outputs": [
    {
     "output_type": "stream",
     "name": "stdout",
     "text": [
      "33\n"
     ]
    }
   ],
   "source": [
    "# Evaluasi hasil deret untuk n = 7    \n",
    "print(calculateSum(7))"
   ]
  }
 ]
}